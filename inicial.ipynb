{
 "cells": [
  {
   "cell_type": "markdown",
   "metadata": {},
   "source": [
    "# Python Insights - Analisando Dados com Python\n",
    "\n",
    "### Case - Cancelamento de Clientes\n",
    "\n",
    "Você foi contratado por uma empresa com mais de 800 mil clientes para um projeto de Dados. Recentemente a empresa percebeu que da sua base total de clientes, a maioria são clientes inativos, ou seja, que já cancelaram o serviço.\n",
    "\n",
    "Precisando melhorar seus resultados ela quer conseguir entender os principais motivos desses cancelamentos e quais as ações mais eficientes para reduzir esse número.\n",
    "\n",
    "Base de dados e arquivos: https://drive.google.com/drive/folders/1uDesZePdkhiraJmiyeZ-w5tfc8XsNYFZ?usp=drive_link"
   ]
  },
  {
   "cell_type": "code",
   "execution_count": 4,
   "metadata": {},
   "outputs": [],
   "source": [
    "# Passo a Passo \n",
    "# Passo 1: Importar a base de dados de Clientes\n",
    "# Passo 2: Visualizar a base de dados\n",
    "# Passo 3: Corrigit os problemas da base de dados\n",
    "# Passo 4: Análise dos cancelamentos\n",
    "# Passo 5: Análise da causa do cancelamento\n",
    "# Bibliotecas: pandas (trabalhar com base de dados), plotly (gráficos e dashboards)\n",
    "# pip install pandas numpy openpyxl nbformat ipykernel plotly\n"
   ]
  },
  {
   "cell_type": "code",
   "execution_count": null,
   "metadata": {},
   "outputs": [],
   "source": [
    "# Passo 1: Importar a base de dados de Clientes\n",
    "import pandas as pd\n",
    "\n",
    "tabela = pd.read_csv(\"cancelamentos.csv\")\n",
    "\n",
    "# Passo 2: Visualizar a base de dados\n",
    "# Retirar colunas que não te ajudam\n",
    "tabela = tabela.drop(columns=\"CustomerID\")"
   ]
  },
  {
   "cell_type": "code",
   "execution_count": null,
   "metadata": {},
   "outputs": [],
   "source": [
    "# Passo 3: Corrigit os problemas da base de dados\n",
    "# Valores vazios\n",
    "tabela = tabela.dropna()\n",
    "display(tabela.info())"
   ]
  },
  {
   "cell_type": "code",
   "execution_count": null,
   "metadata": {},
   "outputs": [],
   "source": [
    "# Passo 4: Análise dos cancelamentos\n",
    "\n",
    "display(tabela[\"cancelou\"].value_counts())\n",
    "display(tabela[\"cancelou\"].value_counts(normalize=True))\n",
    "display(tabela[\"cancelou\"].value_counts(normalize=True).map(\"{:.1%}\".format))"
   ]
  },
  {
   "cell_type": "code",
   "execution_count": null,
   "metadata": {},
   "outputs": [],
   "source": [
    "# Passo 5: Análise da causa do cancelamento\n",
    "import plotly.express as px\n",
    "\n",
    "# Criar o grafico\n",
    "for coluna in tabela.columns:\n",
    "\n",
    "    grafico = px.histogram(tabela, x=coluna, color=\"cancelou\")\n",
    "\n",
    "    # Exibe o grafico\n",
    "    grafico.show()\n",
    "\n"
   ]
  },
  {
   "cell_type": "code",
   "execution_count": null,
   "metadata": {},
   "outputs": [],
   "source": [
    "# análise das causas do cancelamento\n",
    "\n",
    "# Se um cliente lgiar mais de 4 vezes para o call center, ele cancela\n",
    "    # Criar um processo que se um cliente ligou 3 vezes, nós fazemos de td para resolver o problema dele\n",
    "\n",
    "# Se um cliente atrasar o pagamento mais de 20 dias, ele cancela\n",
    "    # Criar um processo para não deixar o cliente atrasar o pagamento mais de 20 dias\n",
    "\n",
    "# Todos os clientes do contrato mensal cancelam\n",
    "    # Oferecer desconto nos planos anuais e trimestrais\n",
    "\n",
    "tabela = tabela[tabela[\"duracao_contrato\"]!=\"Monthly\"] # sem duração do contrato mensal\n",
    "tabela = tabela[tabela[\"ligacoes_callcenter\"]<= 4] # sem ligação do call center acima de 4 vezes\n",
    "tabela = tabela[tabela[\"dias_atraso\"]<= 20] # sem atraso de pagamento\n",
    "\n",
    "display(tabela[\"cancelou\"].value_counts(normalize=True).map(\"{:.1%}\".format))"
   ]
  }
 ],
 "metadata": {
  "kernelspec": {
   "display_name": "base",
   "language": "python",
   "name": "python3"
  },
  "language_info": {
   "codemirror_mode": {
    "name": "ipython",
    "version": 3
   },
   "file_extension": ".py",
   "mimetype": "text/x-python",
   "name": "python",
   "nbconvert_exporter": "python",
   "pygments_lexer": "ipython3",
   "version": "3.12.2"
  },
  "orig_nbformat": 4
 },
 "nbformat": 4,
 "nbformat_minor": 2
}
